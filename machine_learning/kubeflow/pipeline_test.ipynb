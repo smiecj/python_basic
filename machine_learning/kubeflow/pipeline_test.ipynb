{
 "cells": [
  {
   "cell_type": "code",
   "execution_count": null,
   "id": "724c1dbb-4279-4c22-a428-73c7c95036be",
   "metadata": {},
   "outputs": [],
   "source": [
    "import kfp\n",
    "\n",
    "current_namespace = open(\"/var/run/secrets/kubernetes.io/serviceaccount/namespace\").read()\n",
    "print(\"current namespace: \" + current_namespace)\n",
    "\n",
    "# pipeline demo\n",
    "client = kfp.Client()\n",
    "\n",
    "# config file path\n",
    "# ~/.config/kfp/context.json\n",
    "\n",
    "# list experiments\n",
    "experiments = client.list_experiments().experiments\n",
    "# print(\"[test] experients: {}\".format(experiments))\n",
    "if experiments:\n",
    "    for experiment in experiments:\n",
    "        print(\"[experiment] current experiment name: \" + experiment.name)\n",
    "\n",
    "\n",
    "# create experiment \n",
    "experiment_name = \"experiment-test\"\n",
    "try:\n",
    "    get_ret = client.get_experiment(experiment_name = experiment_name)\n",
    "    client.delete_experiment(get_ret.id)\n",
    "    print(\"[experiment] delete experiment {} success\".format(experiment_name))\n",
    "except ValueError as e:\n",
    "    print(\"[experiment] get experiment: {} failed: {}\".format(experiment_name, e))\n",
    "\n",
    "create_ret = client.create_experiment(name = experiment_name, description = \"test description\")\n",
    "print(\"[test] create experiment ret: {}\".format(create_ret))"
   ]
  }
 ],
 "metadata": {
  "kernelspec": {
   "display_name": "Python 3.8.12 64-bit",
   "language": "python",
   "name": "python3"
  },
  "kubeflow_notebook": {
   "autosnapshot": false,
   "experiment": {
    "id": "",
    "name": ""
   },
   "experiment_name": "",
   "katib_metadata": {
    "algorithm": {
     "algorithmName": "grid"
    },
    "maxFailedTrialCount": 3,
    "maxTrialCount": 12,
    "objective": {
     "objectiveMetricName": "",
     "type": "minimize"
    },
    "parallelTrialCount": 3,
    "parameters": []
   },
   "katib_run": false,
   "pipeline_description": "",
   "pipeline_name": "",
   "snapshot_volumes": false,
   "volume_access_mode": "rwm",
   "volumes": []
  },
  "language_info": {
   "codemirror_mode": {
    "name": "ipython",
    "version": 3
   },
   "file_extension": ".py",
   "mimetype": "text/x-python",
   "name": "python",
   "nbconvert_exporter": "python",
   "pygments_lexer": "ipython3",
   "version": "3.8.13"
  },
  "vscode": {
   "interpreter": {
    "hash": "916dbcbb3f70747c44a77c7bcd40155683ae19c65e1c03b4aa3499c5328201f1"
   }
  }
 },
 "nbformat": 4,
 "nbformat_minor": 5
}
