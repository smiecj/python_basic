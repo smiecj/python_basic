{
    "cells": [
     {
      "cell_type": "code",
      "execution_count": 2,
      "id": "edecf4fb-b115-459b-90ed-2e3c87c5525a",
      "metadata": {
       "execution": {
        "iopub.execute_input": "2022-04-25T08:30:09.525944Z",
        "iopub.status.busy": "2022-04-25T08:30:09.525769Z",
        "iopub.status.idle": "2022-04-25T08:30:09.529239Z",
        "shell.execute_reply": "2022-04-25T08:30:09.528739Z",
        "shell.execute_reply.started": "2022-04-25T08:30:09.525924Z"
       },
       "tags": []
      },
      "outputs": [
       {
        "name": "stdout",
        "output_type": "stream",
        "text": [
         "2.8.0\n"
        ]
       }
      ],
      "source": [
       "import os\n",
       "\n",
       "import tensorflow as tf\n",
       "from tensorflow import keras\n",
       "\n",
       "print(tf.version.VERSION)"
      ]
     },
     {
      "cell_type": "code",
      "execution_count": 3,
      "id": "453d3531-d57e-456c-8b72-e1c954931bfe",
      "metadata": {
       "execution": {
        "iopub.execute_input": "2022-04-25T08:37:31.373013Z",
        "iopub.status.busy": "2022-04-25T08:37:31.372604Z",
        "iopub.status.idle": "2022-04-25T08:37:31.764804Z",
        "shell.execute_reply": "2022-04-25T08:37:31.763841Z",
        "shell.execute_reply.started": "2022-04-25T08:37:31.372970Z"
       },
       "tags": []
      },
      "outputs": [],
      "source": [
       "# 加载 MNIST 数据集\n",
       "\n",
       "(train_images, train_labels), (test_images, test_labels) = tf.keras.datasets.mnist.load_data()\n",
       "\n",
       "train_labels = train_labels[:1000]\n",
       "test_labels = test_labels[:1000]\n",
       "\n",
       "# 转成 2d?\n",
       "train_images = train_images[:1000].reshape(-1, 28 * 28) / 255.0\n",
       "test_images = test_images[:1000].reshape(-1, 28 * 28) / 255.0"
      ]
     },
     {
      "cell_type": "code",
      "execution_count": 5,
      "id": "52e1eccf-f034-4aa5-9da8-7c05c4f273a6",
      "metadata": {
       "execution": {
        "iopub.execute_input": "2022-04-25T09:23:38.012581Z",
        "iopub.status.busy": "2022-04-25T09:23:38.011822Z",
        "iopub.status.idle": "2022-04-25T09:23:38.071593Z",
        "shell.execute_reply": "2022-04-25T09:23:38.071041Z",
        "shell.execute_reply.started": "2022-04-25T09:23:38.012523Z"
       },
       "tags": []
      },
      "outputs": [
       {
        "name": "stdout",
        "output_type": "stream",
        "text": [
         "Model: \"sequential_1\"\n",
         "_________________________________________________________________\n",
         " Layer (type)                Output Shape              Param #   \n",
         "=================================================================\n",
         " dense_2 (Dense)             (None, 512)               401920    \n",
         "                                                                 \n",
         " dropout_1 (Dropout)         (None, 512)               0         \n",
         "                                                                 \n",
         " dense_3 (Dense)             (None, 10)                5130      \n",
         "                                                                 \n",
         "=================================================================\n",
         "Total params: 407,050\n",
         "Trainable params: 407,050\n",
         "Non-trainable params: 0\n",
         "_________________________________________________________________\n"
        ]
       }
      ],
      "source": [
       "# 定义序列模型\n",
       "def create_model():\n",
       "  ## keras 方法解析: https://keras.io/zh/layers/core/\n",
       "  model = tf.keras.models.Sequential([\n",
       "    ## 创建激活函数，units: 空间维度; activation: 激活函数，relu 对应 keras/activations.py\n",
       "    ## def relu(x, alpha=0., max_value=None, threshold=0.)\n",
       "    ## input_shape: 和 units 组合成 空间维度参数，参考: keras/layers/core/dense.py, def build(self, input_shape)\n",
       "    keras.layers.Dense(512, activation='relu', input_shape=(784,)),\n",
       "    ## Dropout 包括在训练中每次更新时， 将输入单元的按比率随机设置为 0， 这有助于防止过拟合\n",
       "    ## rate: 需要丢弃的数据比例\n",
       "    ## Dropout: 论文了解: https://www.jmlr.org/papers/volume15/srivastava14a/srivastava14a.pdf\n",
       "    keras.layers.Dropout(0.2),\n",
       "    keras.layers.Dense(10)\n",
       "  ])\n",
       "\n",
       "  model.compile(optimizer='adam',\n",
       "                loss=tf.losses.SparseCategoricalCrossentropy(from_logits=True),\n",
       "                metrics=[tf.metrics.SparseCategoricalAccuracy()])\n",
       "\n",
       "  return model\n",
       "\n",
       "# Create a basic model instance\n",
       "model = create_model()\n",
       "\n",
       "# Display the model's architecture\n",
       "model.summary()"
      ]
     }
    ],
    "metadata": {
     "kernelspec": {
      "display_name": "py3_8_tensorflow_2_8",
      "language": "python",
      "name": "py3_8_tensorflow_2_8"
     },
     "language_info": {
      "codemirror_mode": {
       "name": "ipython",
       "version": 3
      },
      "file_extension": ".py",
      "mimetype": "text/x-python",
      "name": "python",
      "nbconvert_exporter": "python",
      "pygments_lexer": "ipython3",
      "version": "3.8.10"
     }
    },
    "nbformat": 4,
    "nbformat_minor": 5
   }
   