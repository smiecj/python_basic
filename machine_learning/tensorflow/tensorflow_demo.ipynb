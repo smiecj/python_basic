{
    "cells": [
     {
      "cell_type": "code",
      "id": "8086bc0e-86df-4b4b-8ff0-ec768d881c6e",
      "metadata": {
       "tags": []
      },
      "source": [
       "import tensorflow as tf"
      ]
     },
     {
      "cell_type": "code",
      "id": "bd82ba1b-758f-4bcc-9ef7-86ad1a6c91cb",
      "metadata": {
       "tags": []
      },
      "source": [
       "mnist = tf.keras.datasets.mnist\n",
       "\n",
       "(x_train, y_train), (x_test, y_test) = mnist.load_data()\n",
       "x_train, x_test = x_train / 255.0, x_test / 255.0"
      ]
     },
     {
      "cell_type": "code",
      "id": "670166c6-8d9f-4f3c-b190-8d16a6dd53d0",
      "metadata": {
       "tags": []
      },
      "source": [
       "model = tf.keras.models.Sequential([\n",
       "  tf.keras.layers.Flatten(input_shape=(28, 28)),\n",
       "  tf.keras.layers.Dense(128, activation='relu'),\n",
       "  tf.keras.layers.Dropout(0.2),\n",
       "  tf.keras.layers.Dense(10, activation='softmax')\n",
       "])\n",
       "\n",
       "model.compile(optimizer='adam',\n",
       "              loss='sparse_categorical_crossentropy',\n",
       "              metrics=['accuracy'])"
      ]
     },
     {
      "cell_type": "code",
      "id": "903f7ed5-d832-4fe8-815c-b67c9ce1236e",
      "metadata": {
       "tags": []
      },
      "source": [
       "model.fit(x_train, y_train, epochs=5)\n",
       "\n",
       "model.evaluate(x_test,  y_test, verbose=2)"
      ]
     }
    ],
    "metadata": {
     "kernelspec": {
      "display_name": "Python 3",
      "language": "python",
      "name": "python3"
     },
     "language_info": {
      "codemirror_mode": {
       "name": "ipython",
       "version": 3
      },
      "file_extension": ".py",
      "mimetype": "text/x-python",
      "name": "python",
      "nbconvert_exporter": "python",
      "pygments_lexer": "ipython3",
      "version": "3.8.10"
     }
    },
    "nbformat": 4,
    "nbformat_minor": 5
   }
   