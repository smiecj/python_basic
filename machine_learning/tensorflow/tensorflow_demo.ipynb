{
    "cells": [
     {
      "cell_type": "code",
      "id": "69c5a472-b6c2-438d-a7e1-067803594ee0",
      "metadata": {
       "tags": []
      },
      "outputs": [],
      "source": [
       "import tensorflow as tf"
      ]
     },
     {
      "cell_type": "code",
      "id": "323820b5-4d25-4886-83a2-9e1e250f3198",
      "metadata": {
       "tags": []
      },
      "outputs": [],
      "source": [
       "# 加载 MNIST 数据集，并将样本从整数转换成浮点数\n",
       "mnist = tf.keras.datasets.mnist\n",
       "\n",
       "(x_train, y_train), (x_test, y_test) = mnist.load_data()\n",
       "x_train, x_test = x_train / 255.0, x_test / 255.0"
      ]
     },
     {
      "cell_type": "code",
      "id": "524f23fd-70fb-4bda-b90b-07e29a24a208",
      "metadata": {
       "tags": []
      },
      "outputs": [
       {
        "name": "stderr",
        "output_type": "stream"
       }
      ],
      "source": [
       "# 将模型的各层堆叠起来，以搭建 `tf.keras.Sequential` 模型。为训练选择优化器和损失函数\n",
       "model = tf.keras.models.Sequential([\n",
       "  tf.keras.layers.Flatten(input_shape=(28, 28)),\n",
       "  tf.keras.layers.Dense(128, activation='relu'),\n",
       "  tf.keras.layers.Dropout(0.2),\n",
       "  tf.keras.layers.Dense(10, activation='softmax')\n",
       "])\n",
       "\n",
       "model.compile(optimizer='adam',\n",
       "              loss='sparse_categorical_crossentropy',\n",
       "              metrics=['accuracy'])"
      ]
     },
     {
      "cell_type": "code",
      "id": "787e739d-0193-49d0-ba66-830fb50edf77",
      "metadata": {
       "tags": []
      },
      "outputs": [
       {
        "name": "stderr",
        "output_type": "stream"
       },
       {
        "name": "stdout",
        "output_type": "stream"
       },
       {
        "data": {
         "text/plain": [
          "[0.0722142830491066, 0.9779000282287598]"
         ]
        },
        "metadata": {},
        "output_type": "execute_result"
       }
      ],
      "source": [
       "# 训练并验证模型\n",
       "model.fit(x_train, y_train, epochs=5)\n",
       "\n",
       "model.evaluate(x_test,  y_test, verbose=2)"
      ]
     }
    ],
    "metadata": {
     "kernelspec": {
      "display_name": "Python 3 (ipykernel)",
      "language": "python",
      "name": "python3"
     },
     "language_info": {
      "codemirror_mode": {
       "name": "ipython",
       "version": 3
      },
      "file_extension": ".py",
      "mimetype": "text/x-python",
      "name": "python",
      "nbconvert_exporter": "python",
      "pygments_lexer": "ipython3",
      "version": "3.8.13"
     }
    },
    "nbformat": 4,
    "nbformat_minor": 5
   }
   