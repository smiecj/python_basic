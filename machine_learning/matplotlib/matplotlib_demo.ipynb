{
    "cells": [
     {
      "cell_type": "code",
      "execution_count": 2,
      "id": "2df5332c-bff2-467e-80f2-c9da0c41e509",
      "metadata": {},
      "outputs": [
       {
        "data": {
   
         "text/plain": [
          "<Figure size 432x288 with 1 Axes>"
         ]
        },
        "metadata": {
         "needs_background": "light"
        },
        "output_type": "display_data"
       }
      ],
      "source": [
       "import matplotlib as mpl\n",
       "import matplotlib.pyplot as plt\n",
       "import numpy as np\n",
       "\n",
       "fig, ax = plt.subplots()  # Create a figure containing a single axes.\n",
       "ax.plot([1, 2, 3, 4], [1, 4, 2, 3]);  # Plot some data on the axes."
      ]
     },
     {
      "cell_type": "code",
      "execution_count": 3,
      "id": "9221a566-f757-4b3e-8116-1cc20432de11",
      "metadata": {},
      "outputs": [
       {
        "data": {
         "text/plain": [
          "<Figure size 432x288 with 0 Axes>"
         ]
        },
        "metadata": {},
        "output_type": "display_data"
       },
       {
        "data": {
   
         "text/plain": [
          "<Figure size 432x288 with 1 Axes>"
         ]
        },
        "metadata": {
         "needs_background": "light"
        },
        "output_type": "display_data"
       },
       {
        "data": {
   
         "text/plain": [
          "<Figure size 432x288 with 4 Axes>"
         ]
        },
        "metadata": {
         "needs_background": "light"
        },
        "output_type": "display_data"
       }
      ],
      "source": [
       "# figure\n",
       "fig = plt.figure()  # an empty figure with no Axes\n",
       "fig, ax = plt.subplots()  # a figure with a single Axes\n",
       "fig, axs = plt.subplots(2, 2)  # a figure with a 2x2 grid of Axes"
      ]
     },
     {
      "cell_type": "code",
      "execution_count": 5,
      "id": "2789b70c-e398-4e1a-9125-725e6c19ca46",
      "metadata": {},
      "outputs": [
       {
        "data": {
         "text/plain": [
          "Text(0, 0.5, 'entry b')"
         ]
        },
        "execution_count": 5,
        "metadata": {},
        "output_type": "execute_result"
       },
       {
        "data": {
   
         "text/plain": [
          "<Figure size 360x194.4 with 1 Axes>"
         ]
        },
        "metadata": {
         "needs_background": "light"
        },
        "output_type": "display_data"
       }
      ],
      "source": [
       "# print points\n",
       "np.random.seed(19680801)  # seed the random number generator.\n",
       "data = {'a': np.arange(50),\n",
       "        'c': np.random.randint(0, 50, 50),\n",
       "        'd': np.random.randn(50)}\n",
       "data['b'] = data['a'] + 10 * np.random.randn(50)\n",
       "data['d'] = np.abs(data['d']) * 100\n",
       "\n",
       "fig, ax = plt.subplots(figsize=(5, 2.7), layout='constrained')\n",
       "ax.scatter('a', 'b', c='c', s='d', data=data)\n",
       "ax.set_xlabel('entry a')\n",
       "ax.set_ylabel('entry b')"
      ]
     },
     {
      "cell_type": "code",
      "execution_count": 6,
      "id": "0a3f301d-4ecf-43de-bdfa-1802091c4f18",
      "metadata": {},
      "outputs": [
       {
        "data": {
   
         "text/plain": [
          "<Figure size 360x194.4 with 1 Axes>"
         ]
        },
        "metadata": {
         "needs_background": "light"
        },
        "output_type": "display_data"
       }
      ],
      "source": [
       "# print plot with oo-style\n",
       "\n",
       "x = np.linspace(0, 2, 100)  # Sample data.\n",
       "\n",
       "# Note that even in the OO-style, we use `.pyplot.figure` to create the Figure.\n",
       "fig, ax = plt.subplots(figsize=(5, 2.7), layout='constrained')\n",
       "ax.plot(x, x, label='linear')  # Plot some data on the axes.\n",
       "ax.plot(x, x**2, label='quadratic')  # Plot more data on the axes...\n",
       "ax.plot(x, x**3, label='cubic')  # ... and some more.\n",
       "ax.set_xlabel('x label')  # Add an x-label to the axes.\n",
       "ax.set_ylabel('y label')  # Add a y-label to the axes.\n",
       "ax.set_title(\"Simple Plot\")  # Add a title to the axes.\n",
       "ax.legend();  # Add a legend."
      ]
     },
     {
      "cell_type": "code",
      "execution_count": 7,
      "id": "a713f235-90de-4504-b2bc-800ac45cf5fc",
      "metadata": {},
      "outputs": [
       {
        "data": {
   
         "text/plain": [
          "<Figure size 360x194.4 with 1 Axes>"
         ]
        },
        "metadata": {
         "needs_background": "light"
        },
        "output_type": "display_data"
       }
      ],
      "source": [
       "# print plot with pyplot style\n",
       "x = np.linspace(0, 2, 100)  # Sample data.\n",
       "\n",
       "plt.figure(figsize=(5, 2.7), layout='constrained')\n",
       "plt.plot(x, x, label='linear')  # Plot some data on the (implicit) axes.\n",
       "plt.plot(x, x**2, label='quadratic')  # etc.\n",
       "plt.plot(x, x**3, label='cubic')\n",
       "plt.xlabel('x label')\n",
       "plt.ylabel('y label')\n",
       "plt.title(\"Simple Plot\")\n",
       "plt.legend();"
      ]
     },
     {
      "cell_type": "code",
      "execution_count": 8,
      "id": "fcd17a31-4a5a-4eea-8a45-8c8779dc5ee4",
      "metadata": {},
      "outputs": [
       {
        "data": {
   
         "text/plain": [
          "<Figure size 360x194.4 with 2 Axes>"
         ]
        },
        "metadata": {
         "needs_background": "light"
        },
        "output_type": "display_data"
       }
      ],
      "source": [
       "# plot with func\n",
       "def my_plotter(ax, data1, data2, param_dict):\n",
       "    \"\"\"\n",
       "    A helper function to make a graph.\n",
       "    \"\"\"\n",
       "    out = ax.plot(data1, data2, **param_dict)\n",
       "    return out\n",
       "\n",
       "data1, data2, data3, data4 = np.random.randn(4, 100)  # make 4 random data sets\n",
       "fig, (ax1, ax2) = plt.subplots(1, 2, figsize=(5, 2.7))\n",
       "my_plotter(ax1, data1, data2, {'marker': 'x'})\n",
       "my_plotter(ax2, data3, data4, {'marker': 'o'});"
      ]
     },
     {
      "cell_type": "code",
      "execution_count": 9,
      "id": "ed416d9a-9036-45db-929a-fbe51a6b9107",
      "metadata": {},
      "outputs": [
       {
        "data": {
   
         "text/plain": [
          "<Figure size 360x194.4 with 1 Axes>"
         ]
        },
        "metadata": {
         "needs_background": "light"
        },
        "output_type": "display_data"
       }
      ],
      "source": [
       "# point style\n",
       "fig, ax = plt.subplots(figsize=(5, 2.7))\n",
       "x = np.arange(len(data1))\n",
       "ax.plot(x, np.cumsum(data1), color='blue', linewidth=3, linestyle='--')\n",
       "l, = ax.plot(x, np.cumsum(data2), color='orange', linewidth=2)\n",
       "l.set_linestyle(':');"
      ]
     },
     {
      "cell_type": "code",
      "execution_count": 10,
      "id": "1185726a-fe95-4e7c-831a-b16e9a31f676",
      "metadata": {},
      "outputs": [
       {
        "data": {
   
         "text/plain": [
          "<Figure size 360x194.4 with 1 Axes>"
         ]
        },
        "metadata": {
         "needs_background": "light"
        },
        "output_type": "display_data"
       }
      ],
      "source": [
       "# point with color\n",
       "fig, ax = plt.subplots(figsize=(5, 2.7))\n",
       "ax.scatter(data1, data2, s=50, facecolor='C0', edgecolor='k');"
      ]
     },
     {
      "cell_type": "code",
      "execution_count": 11,
      "id": "5e821735-d926-4c63-bd56-8e784dcbdde5",
      "metadata": {},
      "outputs": [
       {
        "data": {
   
         "text/plain": [
          "<Figure size 360x194.4 with 1 Axes>"
         ]
        },
        "metadata": {
         "needs_background": "light"
        },
        "output_type": "display_data"
       }
      ],
      "source": [
       "# point with style\n",
       "fig, ax = plt.subplots(figsize=(5, 2.7))\n",
       "ax.plot(data1, 'o', label='data1')\n",
       "ax.plot(data2, 'd', label='data2')\n",
       "ax.plot(data3, 'v', label='data3')\n",
       "ax.plot(data4, 's', label='data4')\n",
       "ax.legend();"
      ]
     },
     {
      "cell_type": "code",
      "execution_count": 16,
      "id": "2c13c69e-80d4-4597-9aed-dd64ce9dcf92",
      "metadata": {},
      "outputs": [
       {
        "data": {
         "text/plain": [
          "Text(0.5, 1.0, '$\\\\sigma_i=15$')"
         ]
        },
        "execution_count": 16,
        "metadata": {},
        "output_type": "execute_result"
       },
       {
        "data": {
   
         "text/plain": [
          "<Figure size 360x194.4 with 1 Axes>"
         ]
        },
        "metadata": {
         "needs_background": "light"
        },
        "output_type": "display_data"
       }
      ],
      "source": [
       "# Axes labels and text\n",
       "mu, sigma = 115, 15\n",
       "x = mu + sigma * np.random.randn(10000)\n",
       "fig, ax = plt.subplots(figsize=(5, 2.7), layout='constrained')\n",
       "# the histogram of the data\n",
       "n, bins, patches = ax.hist(x, 50, density=1, facecolor='C0', alpha=0.75)\n",
       "\n",
       "ax.set_xlabel('Length [cm]')\n",
       "ax.set_ylabel('Probability')\n",
       "ax.set_title('Aardvark lengths\\n (not really)')\n",
       "ax.text(75, .025, r'$\\mu=115,\\ \\sigma=15$')\n",
       "ax.axis([55, 175, 0, 0.03])\n",
       "ax.grid(True);\n",
       "\n",
       "# t = ax.set_xlabel('my data', fontsize=14, color='red')\n",
       "\n",
       "# ax.set_title(r'$\\sigma_i=15$')"
      ]
     },
     {
      "cell_type": "code",
      "execution_count": 17,
      "id": "bd0aeb52-19ae-4916-8f82-ec44e103a9a4",
      "metadata": {},
      "outputs": [
       {
        "data": {
   
         "text/plain": [
          "<Figure size 360x194.4 with 1 Axes>"
         ]
        },
        "metadata": {
         "needs_background": "light"
        },
        "output_type": "display_data"
       }
      ],
      "source": [
       "# annotations\n",
       "fig, ax = plt.subplots(figsize=(5, 2.7))\n",
       "\n",
       "t = np.arange(0.0, 5.0, 0.01)\n",
       "s = np.cos(2 * np.pi * t)\n",
       "line, = ax.plot(t, s, lw=2)\n",
       "\n",
       "ax.annotate('local max', xy=(2, 1), xytext=(3, 1.5),\n",
       "            arrowprops=dict(facecolor='black', shrink=0.05))\n",
       "\n",
       "ax.set_ylim(-2, 2);"
      ]
     },
     {
      "cell_type": "code",
      "execution_count": 18,
      "id": "b45360c8-3f71-4100-a665-5ca02828dceb",
      "metadata": {},
      "outputs": [
       {
        "data": {
   
         "text/plain": [
          "<Figure size 360x194.4 with 1 Axes>"
         ]
        },
        "metadata": {
         "needs_background": "light"
        },
        "output_type": "display_data"
       }
      ],
      "source": [
       "# legend\n",
       "fig, ax = plt.subplots(figsize=(5, 2.7))\n",
       "ax.plot(np.arange(len(data1)), data1, label='data1')\n",
       "ax.plot(np.arange(len(data2)), data2, label='data2')\n",
       "ax.plot(np.arange(len(data3)), data3, 'd', label='data3')\n",
       "ax.legend();"
      ]
     },
     {
      "cell_type": "code",
      "execution_count": 19,
      "id": "749bc3d5-b26e-49ae-abe9-f8f53f8d10da",
      "metadata": {},
      "outputs": [
       {
        "data": {
   
         "text/plain": [
          "<Figure size 360x194.4 with 2 Axes>"
         ]
        },
        "metadata": {
         "needs_background": "light"
        },
        "output_type": "display_data"
       }
      ],
      "source": [
       "# scale\n",
       "fig, axs = plt.subplots(1, 2, figsize=(5, 2.7), layout='constrained')\n",
       "xdata = np.arange(len(data1))  # make an ordinal for this\n",
       "data = 10**data1\n",
       "axs[0].plot(xdata, data)\n",
       "\n",
       "axs[1].set_yscale('log')\n",
       "axs[1].plot(xdata, data);"
      ]
     },
     {
      "cell_type": "code",
      "execution_count": 20,
      "id": "297c7d2a-c528-431e-bfa8-6afb442a679b",
      "metadata": {},
      "outputs": [
       {
        "data": {
   
         "text/plain": [
          "<Figure size 432x288 with 2 Axes>"
         ]
        },
        "metadata": {
         "needs_background": "light"
        },
        "output_type": "display_data"
       }
      ],
      "source": [
       "# Tick locators and formatters\n",
       "fig, axs = plt.subplots(2, 1, layout='constrained')\n",
       "axs[0].plot(xdata, data1)\n",
       "axs[0].set_title('Automatic ticks')\n",
       "\n",
       "axs[1].plot(xdata, data1)\n",
       "axs[1].set_xticks(np.arange(0, 100, 30), ['zero', '30', 'sixty', '90'])\n",
       "axs[1].set_yticks([-1.5, 0, 1.5])  # note that we don't need to specify labels\n",
       "axs[1].set_title('Manual ticks');"
      ]
     },
     {
      "cell_type": "code",
      "execution_count": 22,
      "id": "4a7e4ac8-a074-4d84-98aa-2b919f373b9b",
      "metadata": {},
      "outputs": [
       {
        "data": {
   
         "text/plain": [
          "<Figure size 360x194.4 with 1 Axes>"
         ]
        },
        "metadata": {
         "needs_background": "light"
        },
        "output_type": "display_data"
       },
       {
        "data": {
   
         "text/plain": [
          "<Figure size 360x194.4 with 1 Axes>"
         ]
        },
        "metadata": {
         "needs_background": "light"
        },
        "output_type": "display_data"
       }
      ],
      "source": [
       "# Plotting dates and strings\n",
       "fig, ax = plt.subplots(figsize=(5, 2.7), layout='constrained')\n",
       "dates = np.arange(np.datetime64('2021-11-15'), np.datetime64('2021-12-25'),\n",
       "                  np.timedelta64(1, 'h'))\n",
       "data = np.cumsum(np.random.randn(len(dates)))\n",
       "ax.plot(dates, data)\n",
       "cdf = mpl.dates.ConciseDateFormatter(ax.xaxis.get_major_locator())\n",
       "ax.xaxis.set_major_formatter(cdf);\n",
       "\n",
       "fig, ax = plt.subplots(figsize=(5, 2.7), layout='constrained')\n",
       "categories = ['turnips', 'rutabaga', 'cucumber', 'pumpkins']\n",
       "\n",
       "ax.bar(categories, np.random.rand(len(categories)));"
      ]
     },
     {
      "cell_type": "code",
      "execution_count": 24,
      "id": "c6ed1993-8597-45a3-8243-9f90d7bcb943",
      "metadata": {},
      "outputs": [
       {
        "data": {
         "text/plain": [
          "Text(0.5, 0, 'Angle [rad]')"
         ]
        },
        "execution_count": 24,
        "metadata": {},
        "output_type": "execute_result"
       },
       {
        "data": {
   
         "text/plain": [
          "<Figure size 576x194.4 with 3 Axes>"
         ]
        },
        "metadata": {
         "needs_background": "light"
        },
        "output_type": "display_data"
       }
      ],
      "source": [
       "# Additional Axis objects\n",
       "\n",
       "fig, (ax1, ax3) = plt.subplots(1, 2, figsize=(8, 2.7), layout='constrained')\n",
       "l1, = ax1.plot(t, s)\n",
       "ax2 = ax1.twinx()\n",
       "l2, = ax2.plot(t, range(len(t)), 'C1')\n",
       "ax2.legend([l1, l2], ['Sine (left)', 'Straight (right)'])\n",
       "\n",
       "ax3.plot(t, s)\n",
       "ax3.set_xlabel('Angle [°]')\n",
       "ax4 = ax3.secondary_xaxis('top', functions=(np.rad2deg, np.deg2rad))\n",
       "ax4.set_xlabel('Angle [rad]')"
      ]
     },
     {
      "cell_type": "code",
      "execution_count": 25,
      "id": "164cf0bc-9d1d-4b18-a078-526741dd3fbe",
      "metadata": {},
      "outputs": [
       {
        "data": {
   
         "text/plain": [
          "<Figure size 432x288 with 8 Axes>"
         ]
        },
        "metadata": {
         "needs_background": "light"
        },
        "output_type": "display_data"
       }
      ],
      "source": [
       "# Color mapped data\n",
       "X, Y = np.meshgrid(np.linspace(-3, 3, 128), np.linspace(-3, 3, 128))\n",
       "Z = (1 - X/2 + X**5 + Y**3) * np.exp(-X**2 - Y**2)\n",
       "\n",
       "fig, axs = plt.subplots(2, 2, layout='constrained')\n",
       "pc = axs[0, 0].pcolormesh(X, Y, Z, vmin=-1, vmax=1, cmap='RdBu_r')\n",
       "fig.colorbar(pc, ax=axs[0, 0])\n",
       "axs[0, 0].set_title('pcolormesh()')\n",
       "\n",
       "co = axs[0, 1].contourf(X, Y, Z, levels=np.linspace(-1.25, 1.25, 11))\n",
       "fig.colorbar(co, ax=axs[0, 1])\n",
       "axs[0, 1].set_title('contourf()')\n",
       "\n",
       "pc = axs[1, 0].imshow(Z**2 * 100, cmap='plasma',\n",
       "                          norm=mpl.colors.LogNorm(vmin=0.01, vmax=100))\n",
       "fig.colorbar(pc, ax=axs[1, 0], extend='both')\n",
       "axs[1, 0].set_title('imshow() with LogNorm()')\n",
       "\n",
       "pc = axs[1, 1].scatter(data1, data2, c=data3, cmap='RdBu_r')\n",
       "fig.colorbar(pc, ax=axs[1, 1], extend='both')\n",
       "axs[1, 1].set_title('scatter()');"
      ]
     }
    ],
    "metadata": {
     "kernelspec": {
      "display_name": "Python 3 (ipykernel)",
      "language": "python",
      "name": "python3"
     },
     "language_info": {
      "codemirror_mode": {
       "name": "ipython",
       "version": 3
      },
      "file_extension": ".py",
      "mimetype": "text/x-python",
      "name": "python",
      "nbconvert_exporter": "python",
      "pygments_lexer": "ipython3",
      "version": "3.8.13"
     }
    },
    "nbformat": 4,
    "nbformat_minor": 5
   }
   