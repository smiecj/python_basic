{
 "cells": [
  {
   "cell_type": "code",
   "execution_count": 3,
   "id": "46901a3a-ed60-463c-bf6c-37173498a96f",
   "metadata": {},
   "outputs": [],
   "source": [
    "%env JAVA_HOME=/home/jovyan/java/jdk8u322-b06\n",
    "%env JRE_HOME=/home/jovyan/java/jdk8u322-b06/jre\n",
    "%env CLASSPATH=.:/home/jovyan/java/jdk8u322-b06/lib/dt.jar:/home/jovyan/java/jdk8u322-b06/lib/tools.jar:/home/jovyan/java/jdk8u322-b06/jre/lib\n",
    "%env PATH=$PATH:/home/jovyan/java/jdk8u322-b06/bin:/home/jovyan/java/jdk8u322-b06/jre/bin"
   ]
  },
  {
   "cell_type": "code",
   "execution_count": 1,
   "id": "c75802b9-e090-46a0-8929-ee46a3d1da1c",
   "metadata": {},
   "outputs": [],
   "source": [
    "import pandas\n",
    "\n",
    "# from: jpmml-sklearn/pmml-sklearn/target/test-classes/csv/Iris.csv\n",
    "iris_df = pandas.read_csv(\"Iris.csv\")\n",
    "\n",
    "iris_X = iris_df[iris_df.columns.difference([\"Species\"])]\n",
    "iris_y = iris_df[\"Species\"]\n",
    "\n",
    "from sklearn.tree import DecisionTreeClassifier\n",
    "from sklearn2pmml.pipeline import PMMLPipeline\n",
    "\n",
    "pipeline = PMMLPipeline([\n",
    "\t(\"classifier\", DecisionTreeClassifier())\n",
    "])\n",
    "pipeline.fit(iris_X, iris_y)\n",
    "\n",
    "from sklearn2pmml import sklearn2pmml\n",
    "import os\n",
    "os.environ[\"JAVA_HOME\"] = \"/home/jovyan/java/jdk8u322-b06\"\n",
    "os.environ[\"JRE_HOME\"] = \"/home/jovyan/java/jdk8u322-b06/jre\"\n",
    "os.environ[\"CLASSPATH\"] = \".:/home/jovyan/java/jdk8u322-b06/lib/dt.jar:/home/jovyan/java/jdk8u322-b06/lib/tools.jar:/home/jovyan/java/jdk8u322-b06/jre/lib\"\n",
    "os.environ[\"PATH\"] = \"$PATH:/home/jovyan/java/jdk8u322-b06/bin:/home/jovyan/java/jdk8u322-b06/jre/bin\"\n",
    "\n",
    "sklearn2pmml(pipeline, \"DecisionTreeIris.pmml\", with_repr = True)\n",
    "print(\"success\")"
   ]
  }
 ],
 "metadata": {
  "kernelspec": {
   "display_name": "Python 3",
   "language": "python",
   "name": "python3"
  },
  "language_info": {
   "codemirror_mode": {
    "name": "ipython",
    "version": 3
   },
   "file_extension": ".py",
   "mimetype": "text/x-python",
   "name": "python",
   "nbconvert_exporter": "python",
   "pygments_lexer": "ipython3",
   "version": "3.8.10"
  }
 },
 "nbformat": 4,
 "nbformat_minor": 5
}
